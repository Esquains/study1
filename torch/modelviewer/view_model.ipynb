!wget -c https://download.pytorch.org/models/alexnet-owt-4df8aa71.pth

from modelviewer import ModelViewer

# Provide path of trained model 
model_path = 'alexnet-owt-4df8aa71.pth'

model = ModelViewer.get_model(model_path)
layer_list, ref = ModelViewer.get_layers(model)
print(layer_list)
fig = ModelViewer.display_model(layer_list, ref)
ModelViewer.save_model(fig, model_path) 

# compare against state-of-the-art third part library - "Netron" that is also used to visualize neural network models

import netron
netron.start(model_path)
